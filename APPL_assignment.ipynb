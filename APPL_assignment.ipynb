{
  "nbformat": 4,
  "nbformat_minor": 0,
  "metadata": {
    "colab": {
      "name": "APPL assignment",
      "provenance": [],
      "collapsed_sections": [],
      "authorship_tag": "ABX9TyPvuqsD7yhq9OJemccfKZWl",
      "include_colab_link": true
    },
    "kernelspec": {
      "name": "python3",
      "display_name": "Python 3"
    },
    "language_info": {
      "name": "python"
    }
  },
  "cells": [
    {
      "cell_type": "markdown",
      "metadata": {
        "id": "view-in-github",
        "colab_type": "text"
      },
      "source": [
        "<a href=\"https://colab.research.google.com/github/BhavyaHarika12/Basic-ML/blob/main/APPL_assignment.ipynb\" target=\"_parent\"><img src=\"https://colab.research.google.com/assets/colab-badge.svg\" alt=\"Open In Colab\"/></a>"
      ]
    },
    {
      "cell_type": "markdown",
      "metadata": {
        "id": "LUK8GFwSK7K1"
      },
      "source": [
        "python program to add two numbers\n"
      ]
    },
    {
      "cell_type": "code",
      "metadata": {
        "colab": {
          "base_uri": "https://localhost:8080/"
        },
        "id": "nhtEWX_lE-GY",
        "outputId": "59304589-5568-4c6c-8682-3cc53ccf80fe"
      },
      "source": [
        "\n",
        "a = 1\n",
        "b = 12\n",
        "c = a + b\n",
        "print(c)\n"
      ],
      "execution_count": null,
      "outputs": [
        {
          "output_type": "stream",
          "text": [
            "13\n"
          ],
          "name": "stdout"
        }
      ]
    },
    {
      "cell_type": "markdown",
      "metadata": {
        "id": "XTX3tyHFLCK7"
      },
      "source": [
        "python program to check leap year\n"
      ]
    },
    {
      "cell_type": "code",
      "metadata": {
        "colab": {
          "base_uri": "https://localhost:8080/"
        },
        "id": "OYHCOeUCFTAT",
        "outputId": "fa667fee-7322-4c83-c493-dea9d94766a2"
      },
      "source": [
        "year = 2021\n",
        "if year % 4 == 0 and year % 100 != 0:\n",
        "  print(year, \"is a leap year\")\n",
        "elif year % 400 == 0:\n",
        "  print(year, \"is a leap year\")\n",
        "else:\n",
        "  print(year, \"is not a leap year\")   \n",
        "\n"
      ],
      "execution_count": null,
      "outputs": [
        {
          "output_type": "stream",
          "text": [
            "2021 is not a leap year\n"
          ],
          "name": "stdout"
        }
      ]
    },
    {
      "cell_type": "markdown",
      "metadata": {
        "id": "_Y63RlE1LLkG"
      },
      "source": [
        "program to reverse the given number using strings\n",
        "\n"
      ]
    },
    {
      "cell_type": "code",
      "metadata": {
        "colab": {
          "base_uri": "https://localhost:8080/"
        },
        "id": "sDSdc7NAIOcD",
        "outputId": "c0e7475d-058c-468e-b0bd-9104c0d8b881"
      },
      "source": [
        "a = \"1234\"\n",
        "print(a[::-1])"
      ],
      "execution_count": null,
      "outputs": [
        {
          "output_type": "stream",
          "text": [
            "4321\n"
          ],
          "name": "stdout"
        }
      ]
    }
  ]
}